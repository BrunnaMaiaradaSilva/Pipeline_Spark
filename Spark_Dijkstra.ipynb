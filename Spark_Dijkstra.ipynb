{
  "nbformat": 4,
  "nbformat_minor": 0,
  "metadata": {
    "colab": {
      "name": "Spark_Dijkstra.ipynb",
      "provenance": [],
      "private_outputs": true,
      "collapsed_sections": []
    },
    "kernelspec": {
      "name": "python3",
      "display_name": "Python 3"
    }
  },
  "cells": [
    {
      "cell_type": "markdown",
      "metadata": {
        "id": "lWlJeIK9LLzY",
        "colab_type": "text"
      },
      "source": [
        "##Tutorial de Python Spark\n"
      ]
    },
    {
      "cell_type": "code",
      "metadata": {
        "id": "1zYnCb0IiaJ7",
        "colab_type": "code",
        "colab": {}
      },
      "source": [
        "!apt-get install openjdk-8-jdk-headless -qq > /dev/null\n",
        "!wget -q https://www-us.apache.org/dist/spark/spark-3.0.0-preview/spark-3.0.0-preview-bin-hadoop2.7.tgz\n",
        "!tar xf spark-3.0.0-preview-bin-hadoop2.7.tgz\n",
        "!pip install -q findspark\n",
        "#!apt-get install python-software-properties\n",
        "#!add-apt-repository ppa:igraph/ppa /y\n",
        "#!apt-get update\n",
        "#!pip install -q python-igraph\n"
      ],
      "execution_count": 0,
      "outputs": []
    },
    {
      "cell_type": "code",
      "metadata": {
        "id": "WXzzPJuBigvb",
        "colab_type": "code",
        "colab": {}
      },
      "source": [
        "import os\n",
        "os.environ[\"JAVA_HOME\"] = \"/usr/lib/jvm/java-8-openjdk-amd64\"\n",
        "os.environ[\"SPARK_HOME\"] = \"/content/spark-3.0.0-preview-bin-hadoop2.7\"\n",
        "import findspark\n",
        "findspark.init()\n",
        "from pyspark import SparkContext, SparkConf\n",
        "from pyspark.sql import SQLContext, SparkSession\n",
        "from pyspark.sql.types import StructType, StructField, DoubleType, IntegerType, StringType\n",
        "from time import sleep\n",
        "from pyspark.streaming import StreamingContext\n",
        "#Spark Contexto\n",
        "#df = SparkSession.builder.master(\"local[*]\").getOrCreate()\n",
        "sc = SparkContext.getOrCreate(SparkConf().setMaster(\"local[*]\"))\n",
        "\n",
        "from pyspark.sql import SparkSession\n",
        "\n",
        "ss = SparkSession \\\n",
        "    .builder \\\n",
        "    .appName(\"Dijkstra\") \\\n",
        "    .config(\"spark.some.config.option\", \"some-value\") \\\n",
        "    .getOrCreate()\n",
        "    \n",
        "sc.version \n",
        "\n"
      ],
      "execution_count": 0,
      "outputs": []
    },
    {
      "cell_type": "code",
      "metadata": {
        "id": "SVfOKMSct2xW",
        "colab_type": "code",
        "colab": {}
      },
      "source": [
        "integer_RDD = sc.parallelize(range(10),10)"
      ],
      "execution_count": 0,
      "outputs": []
    },
    {
      "cell_type": "code",
      "metadata": {
        "id": "YNyh3pDkfQPI",
        "colab_type": "code",
        "colab": {}
      },
      "source": [
        "integer_RDD.collect()"
      ],
      "execution_count": 0,
      "outputs": []
    },
    {
      "cell_type": "code",
      "metadata": {
        "id": "fli9js5Sisul",
        "colab_type": "code",
        "colab": {}
      },
      "source": [
        "integer_RDD.collectAsMap"
      ],
      "execution_count": 0,
      "outputs": []
    },
    {
      "cell_type": "code",
      "metadata": {
        "id": "Y2UsFjS9vZpa",
        "colab_type": "code",
        "colab": {}
      },
      "source": [
        "integer_RDD.combineByKey"
      ],
      "execution_count": 0,
      "outputs": []
    },
    {
      "cell_type": "code",
      "metadata": {
        "id": "cqx2_mVOvdSC",
        "colab_type": "code",
        "colab": {}
      },
      "source": [
        "integer_RDD.count()"
      ],
      "execution_count": 0,
      "outputs": []
    },
    {
      "cell_type": "code",
      "metadata": {
        "id": "Ybq_gCKSviGC",
        "colab_type": "code",
        "colab": {}
      },
      "source": [
        "integer_RDD.countApprox"
      ],
      "execution_count": 0,
      "outputs": []
    },
    {
      "cell_type": "code",
      "metadata": {
        "id": "uuRhwAflvnTH",
        "colab_type": "code",
        "colab": {}
      },
      "source": [
        "integer_RDD.countApproxDistinct()"
      ],
      "execution_count": 0,
      "outputs": []
    },
    {
      "cell_type": "code",
      "metadata": {
        "id": "phQ4V2ajiipN",
        "colab_type": "code",
        "colab": {}
      },
      "source": [
        "integer_RDD.cache"
      ],
      "execution_count": 0,
      "outputs": []
    },
    {
      "cell_type": "code",
      "metadata": {
        "id": "V5fYkIl1v8Xg",
        "colab_type": "code",
        "colab": {}
      },
      "source": [
        "integer_RDD.ctx"
      ],
      "execution_count": 0,
      "outputs": []
    },
    {
      "cell_type": "code",
      "metadata": {
        "id": "0Z-_ervtwcuz",
        "colab_type": "code",
        "colab": {}
      },
      "source": [
        "integer_RDD.glom().collect()"
      ],
      "execution_count": 0,
      "outputs": []
    },
    {
      "cell_type": "code",
      "metadata": {
        "id": "Q_-Z_AbWw_Ym",
        "colab_type": "code",
        "colab": {}
      },
      "source": [
        "integer_RDD.coalesce(2).glom().collect()"
      ],
      "execution_count": 0,
      "outputs": []
    },
    {
      "cell_type": "code",
      "metadata": {
        "id": "wbWuujjN1Uh4",
        "colab_type": "code",
        "colab": {}
      },
      "source": [
        "integer_RDD.coalesce(5).glom().collect()"
      ],
      "execution_count": 0,
      "outputs": []
    },
    {
      "cell_type": "code",
      "metadata": {
        "id": "WadQzsdK8Jy4",
        "colab_type": "code",
        "colab": {}
      },
      "source": [
        "integer_RDD.cache()"
      ],
      "execution_count": 0,
      "outputs": []
    },
    {
      "cell_type": "code",
      "metadata": {
        "id": "na0I3V8E3oZG",
        "colab_type": "code",
        "colab": {}
      },
      "source": [
        "integer_RDD.saveAsTextFile(\"/content/diretorio/particoes\")"
      ],
      "execution_count": 0,
      "outputs": []
    },
    {
      "cell_type": "code",
      "metadata": {
        "id": "RHfQsQyF9NSM",
        "colab_type": "code",
        "colab": {}
      },
      "source": [
        "accum = sc.accumulator(0)\n",
        "def test_accum(x):\n",
        "  accum.add(x)"
      ],
      "execution_count": 0,
      "outputs": []
    },
    {
      "cell_type": "code",
      "metadata": {
        "id": "dZ3Hfh9kA7Ql",
        "colab_type": "code",
        "colab": {}
      },
      "source": [
        "sc.parallelize([1,2,3,4]).foreach(test_accum)"
      ],
      "execution_count": 0,
      "outputs": []
    },
    {
      "cell_type": "code",
      "metadata": {
        "id": "DQfDksTIBQ0D",
        "colab_type": "code",
        "colab": {}
      },
      "source": [
        "accum.value"
      ],
      "execution_count": 0,
      "outputs": []
    },
    {
      "cell_type": "code",
      "metadata": {
        "id": "ZSn5ZP7uAo7W",
        "colab_type": "code",
        "colab": {}
      },
      "source": [
        "integer_RDD2 = sc.parallelize(([1,2],[1,2]),2)"
      ],
      "execution_count": 0,
      "outputs": []
    },
    {
      "cell_type": "code",
      "metadata": {
        "id": "Ow9aptaBCoQh",
        "colab_type": "code",
        "colab": {}
      },
      "source": [
        "integer_RDD2.cache()"
      ],
      "execution_count": 0,
      "outputs": []
    },
    {
      "cell_type": "code",
      "metadata": {
        "id": "lrUbr-qyCt-a",
        "colab_type": "code",
        "colab": {}
      },
      "source": [
        "integer_RDD2.take(2)"
      ],
      "execution_count": 0,
      "outputs": []
    },
    {
      "cell_type": "code",
      "metadata": {
        "id": "zscFU7ib7e04",
        "colab_type": "code",
        "colab": {}
      },
      "source": [
        "integer_RDD2.collect()"
      ],
      "execution_count": 0,
      "outputs": []
    },
    {
      "cell_type": "code",
      "metadata": {
        "id": "HcPGNGFPDFtn",
        "colab_type": "code",
        "colab": {}
      },
      "source": [
        "numero1 = integer_RDD2.filter(1)"
      ],
      "execution_count": 0,
      "outputs": []
    },
    {
      "cell_type": "code",
      "metadata": {
        "id": "_VOJGr4LF7Ea",
        "colab_type": "code",
        "colab": {}
      },
      "source": [
        "print(numero1)"
      ],
      "execution_count": 0,
      "outputs": []
    },
    {
      "cell_type": "code",
      "metadata": {
        "id": "BePl5iSPGlrw",
        "colab_type": "code",
        "colab": {}
      },
      "source": [
        "integer_RDD3 = sc.parallelize((['A'],['A'],['B']),2)"
      ],
      "execution_count": 0,
      "outputs": []
    },
    {
      "cell_type": "code",
      "metadata": {
        "id": "7CtoW-GmHH2r",
        "colab_type": "code",
        "colab": {}
      },
      "source": [
        "integer_RDD3.collect()"
      ],
      "execution_count": 0,
      "outputs": []
    },
    {
      "cell_type": "code",
      "metadata": {
        "id": "h6KW7jwaHMWb",
        "colab_type": "code",
        "colab": {}
      },
      "source": [
        "letra = integer_RDD3.filter('A')"
      ],
      "execution_count": 0,
      "outputs": []
    },
    {
      "cell_type": "code",
      "metadata": {
        "id": "3q3ng8N8HW9M",
        "colab_type": "code",
        "colab": {}
      },
      "source": [
        "letra.collect"
      ],
      "execution_count": 0,
      "outputs": []
    },
    {
      "cell_type": "code",
      "metadata": {
        "id": "n2KQyEPPH7S-",
        "colab_type": "code",
        "colab": {}
      },
      "source": [
        "x = sc.parallelize([1,2,3,4,5,6,7,8,9,10], 2)"
      ],
      "execution_count": 0,
      "outputs": []
    },
    {
      "cell_type": "code",
      "metadata": {
        "id": "TfqszITkIRfC",
        "colab_type": "code",
        "colab": {}
      },
      "source": [
        "# filter operation \n",
        "y = x.filter(lambda x: x % 2 == 0)\n",
        "y.collect()"
      ],
      "execution_count": 0,
      "outputs": []
    },
    {
      "cell_type": "code",
      "metadata": {
        "id": "c0qjeaUvIsSY",
        "colab_type": "code",
        "colab": {}
      },
      "source": [
        "rdd_text = sc.parallelize(['Delete entry lines', '', '', '', '','No more'])\n",
        "rdd_aux = rdd_text.filter(lambda x : x != '')\n",
        "print (rdd_aux.collect())"
      ],
      "execution_count": 0,
      "outputs": []
    },
    {
      "cell_type": "code",
      "metadata": {
        "id": "gHX51ZMqHd2N",
        "colab_type": "code",
        "colab": {}
      },
      "source": [
        "rdd_text = sc.parallelize(['Delete entry lines', 'teste', '', '', '','No more'])\n",
        "rdd_aux = rdd_text.filter(lambda x : x == 'teste')\n",
        "print (rdd_aux.collect())"
      ],
      "execution_count": 0,
      "outputs": []
    },
    {
      "cell_type": "code",
      "metadata": {
        "id": "P5mmaxouK-yE",
        "colab_type": "code",
        "colab": {}
      },
      "source": [
        "rdd_num = sc.parallelize([1, 1, 1, 1, 2, 2, 2, 3, 3, 4])\n",
        "rdd_aux = rdd_num.filter(lambda x : x < 3)\n",
        "print (rdd_num.collect())"
      ],
      "execution_count": 0,
      "outputs": []
    },
    {
      "cell_type": "markdown",
      "metadata": {
        "id": "g9m4q-PqgR2Q",
        "colab_type": "text"
      },
      "source": [
        "##Estruturas de dados\n",
        "\n",
        "\n"
      ]
    },
    {
      "cell_type": "markdown",
      "metadata": {
        "id": "TuNE2uTwm693",
        "colab_type": "text"
      },
      "source": [
        "###DATAFRAMES (simples)\n"
      ]
    },
    {
      "cell_type": "code",
      "metadata": {
        "id": "aJcNCBBAgWdY",
        "colab_type": "code",
        "colab": {}
      },
      "source": [
        "##Declarar um DataFrame (vazio)\n",
        "import pandas as pd\n",
        "data = pd.DataFrame(columns=('order', 'family', 'num', 'sequence'))\n",
        "data"
      ],
      "execution_count": 0,
      "outputs": []
    },
    {
      "cell_type": "code",
      "metadata": {
        "id": "7nKj-gHuhguw",
        "colab_type": "code",
        "colab": {}
      },
      "source": [
        "##Adicionar dados ao DataFrame\n",
        "data.loc[len(data)]=['Tymovirales','Alphaflexiviridae',1,'AACGTTAAUGGUGAA'] \n",
        "data.loc[len(data)]=['Tymovirales','Alphaflexiviridae',2,'AACGTTAAUGGUGAA']\n",
        "data"
      ],
      "execution_count": 0,
      "outputs": []
    },
    {
      "cell_type": "code",
      "metadata": {
        "id": "dZPzBziYh_6A",
        "colab_type": "code",
        "colab": {}
      },
      "source": [
        "##Declarar um DataFrame (com dados)\n",
        "clases = [\"clase 1\"] * 5 + [\"clase 2\"] * 5\n",
        "tipos = [\"tipo 1\"] * 2 + [\"tipo 2\"] * 3 + [\"tipo 3\"] * 2 + [\"tipo 4\"] * 3\n",
        "valores = [0,1,2,3,4] + [5,6,7,8,9]\n",
        "df = pd.DataFrame({\"clase\": clases, \"tipo\": tipos, \"valor\": valores})\n",
        "df"
      ],
      "execution_count": 0,
      "outputs": []
    },
    {
      "cell_type": "code",
      "metadata": {
        "id": "vHR6iv6kiWQr",
        "colab_type": "code",
        "colab": {}
      },
      "source": [
        "print(df[:5])"
      ],
      "execution_count": 0,
      "outputs": []
    },
    {
      "cell_type": "code",
      "metadata": {
        "id": "6FD8KeIuigmQ",
        "colab_type": "code",
        "colab": {}
      },
      "source": [
        "##Selecione a coluna da turma\n",
        "print (df ['clase']) "
      ],
      "execution_count": 0,
      "outputs": []
    },
    {
      "cell_type": "code",
      "metadata": {
        "id": "Zp_f7NyTiyIf",
        "colab_type": "code",
        "colab": {}
      },
      "source": [
        "##Selecione duas colunas\n",
        "print (df [['clase', 'tipo']]) "
      ],
      "execution_count": 0,
      "outputs": []
    },
    {
      "cell_type": "code",
      "metadata": {
        "id": "eQg2JEaRjAC_",
        "colab_type": "code",
        "colab": {}
      },
      "source": [
        "##Calcular a média dos valores que podem ser calculados\n",
        "print (df.mean ()) "
      ],
      "execution_count": 0,
      "outputs": []
    },
    {
      "cell_type": "code",
      "metadata": {
        "id": "NxCv6pmVjHfW",
        "colab_type": "code",
        "colab": {}
      },
      "source": [
        "##Calcular a soma dos valores que podem ser calculados\n",
        "print (df.groupby ('clase'). sum ()) "
      ],
      "execution_count": 0,
      "outputs": []
    },
    {
      "cell_type": "code",
      "metadata": {
        "id": "imKKpYeejQ42",
        "colab_type": "code",
        "colab": {}
      },
      "source": [
        "##Contar os valores contábeis ignorando os valores nulos\n",
        "print (df.groupby ('clase'). count ()) "
      ],
      "execution_count": 0,
      "outputs": []
    },
    {
      "cell_type": "code",
      "metadata": {
        "id": "m0ROiKUjjeSn",
        "colab_type": "code",
        "colab": {}
      },
      "source": [
        "##Transformar uma coluna do quadro de dados em uma lista\n",
        "print (df ['clase']. tolist ()) "
      ],
      "execution_count": 0,
      "outputs": []
    },
    {
      "cell_type": "code",
      "metadata": {
        "id": "LtiVHnAJjq3V",
        "colab_type": "code",
        "colab": {}
      },
      "source": [
        "##Classificar valores por classe e tipo\n",
        "print(df.sort_values(by=['clase','tipo'], ascending=[True,False]))"
      ],
      "execution_count": 0,
      "outputs": []
    },
    {
      "cell_type": "code",
      "metadata": {
        "id": "BxQ9pljZkdcZ",
        "colab_type": "code",
        "colab": {}
      },
      "source": [
        "##Excluir duplicatas do quadro de dados\n",
        "df.loc [len (df)] = ['clase 1', 'tipo 1', 1] \n",
        "df.loc [len (df)] = ['clase 1', 'tipo 1', 1] \n",
        "print (df) \n",
        "print (df.drop_duplicates ())"
      ],
      "execution_count": 0,
      "outputs": []
    },
    {
      "cell_type": "code",
      "metadata": {
        "id": "JWWTRC_ekvBx",
        "colab_type": "code",
        "colab": {}
      },
      "source": [
        "##Excluir duplicatas de uma coluna\n",
        "print (df ['clase']. drop_duplicates (). values.tolist ())"
      ],
      "execution_count": 0,
      "outputs": []
    },
    {
      "cell_type": "code",
      "metadata": {
        "id": "8ONrnpiyk4S0",
        "colab_type": "code",
        "colab": {}
      },
      "source": [
        "##Substituir substring para todos os campos em uma coluna\n",
        "df ['clase'] = df ['clase']. replace ({'': ''}, regex = True) \n",
        "print (df)"
      ],
      "execution_count": 0,
      "outputs": []
    },
    {
      "cell_type": "code",
      "metadata": {
        "id": "F2QG81pOlajs",
        "colab_type": "code",
        "colab": {}
      },
      "source": [
        "##Substituir substring para todos os campos do quadro de dados\n",
        "df = df.replace ({'': ''}, regex = True) \n",
        "print (df) "
      ],
      "execution_count": 0,
      "outputs": []
    },
    {
      "cell_type": "code",
      "metadata": {
        "id": "YForN-XYliQ7",
        "colab_type": "code",
        "colab": {}
      },
      "source": [
        "##Filtrar por valores da coluna\n",
        "df2 = df [df ['tipo'] == 'type1'] \n",
        "print (df2) "
      ],
      "execution_count": 0,
      "outputs": []
    },
    {
      "cell_type": "code",
      "metadata": {
        "id": "zA_xbBh_ltql",
        "colab_type": "code",
        "colab": {}
      },
      "source": [
        "##Filtrar por colunas específicas do quadro de dados\n",
        "df2 = df.filter(items=['clase', 'valor'])\n",
        "print(df2)"
      ],
      "execution_count": 0,
      "outputs": []
    },
    {
      "cell_type": "code",
      "metadata": {
        "id": "p5vGyq_UmPck",
        "colab_type": "code",
        "colab": {}
      },
      "source": [
        "##Filtar por valores de una columna que pertenezcan a un conjunto de datos\n",
        "df2 = df[df['valor'].isin([3,6])]\n",
        "print(df2)"
      ],
      "execution_count": 0,
      "outputs": []
    },
    {
      "cell_type": "code",
      "metadata": {
        "id": "oLhJ3s1XmZLa",
        "colab_type": "code",
        "colab": {}
      },
      "source": [
        "##Filtar por valores que cumpla una condición\n",
        "df2 = df[df['valor'] > 6]\n",
        "print(df2)"
      ],
      "execution_count": 0,
      "outputs": []
    },
    {
      "cell_type": "code",
      "metadata": {
        "id": "X42UUiZEmjPD",
        "colab_type": "code",
        "colab": {}
      },
      "source": [
        "##União de dois quadros de dados por coluna\n",
        "df1 = pd.DataFrame({'A1': ['A0', 'A1', 'A2', 'A3'],\n",
        "'B1': ['B11', 'B12', 'B13', 'B14'],\n",
        "'C1': ['C11', 'C12', 'C13', 'C14']})\n",
        "\n",
        "\n",
        "df2 = pd.DataFrame({'A2': ['A0', 'A2', 'A2', 'A4'],\n",
        "'B2': ['B21', 'B22', 'B23', 'B24'],\n",
        "'C2': ['C21', 'C22', 'C23', 'C24']})\n",
        "\n",
        "\n",
        "result = df1.merge(df2, left_on='A1', right_on='A2', how='outer')\n",
        "\n",
        "print(result)"
      ],
      "execution_count": 0,
      "outputs": []
    },
    {
      "cell_type": "markdown",
      "metadata": {
        "id": "YxVF8zCpm_n7",
        "colab_type": "text"
      },
      "source": [
        "#Matriz (simples)"
      ]
    },
    {
      "cell_type": "code",
      "metadata": {
        "id": "YXEfySizmv2u",
        "colab_type": "code",
        "colab": {}
      },
      "source": [
        "import numpy as np\n",
        "matrix_aux = [[1,2,3],\n",
        "              [4,5,6]]\n",
        "\n",
        "m = np.array(matrix_aux)\n",
        "print(m)"
      ],
      "execution_count": 0,
      "outputs": []
    },
    {
      "cell_type": "code",
      "metadata": {
        "id": "O15_Co2Mnsx3",
        "colab_type": "code",
        "colab": {}
      },
      "source": [
        "l = np.zeros((3, 3))\n",
        "print(l)"
      ],
      "execution_count": 0,
      "outputs": []
    },
    {
      "cell_type": "code",
      "metadata": {
        "id": "grxrEMNCn0zI",
        "colab_type": "code",
        "colab": {}
      },
      "source": [
        "l = np.diag([1,1,1])\n",
        "print(l)"
      ],
      "execution_count": 0,
      "outputs": []
    },
    {
      "cell_type": "code",
      "metadata": {
        "id": "gZareSNMn5cZ",
        "colab_type": "code",
        "colab": {}
      },
      "source": [
        "##Acessar elementos da matriz\n",
        "print(m[1,1])\n",
        "print(m[:,2])\n",
        "print(m[0,:])\n",
        "print(m[0,::-1])"
      ],
      "execution_count": 0,
      "outputs": []
    },
    {
      "cell_type": "code",
      "metadata": {
        "id": "OKjaS9AZn_SJ",
        "colab_type": "code",
        "colab": {}
      },
      "source": [
        "##Soma dos elementos da matriz\n",
        "##Adicione todos os elementos\n",
        "print(m.sum())"
      ],
      "execution_count": 0,
      "outputs": []
    },
    {
      "cell_type": "code",
      "metadata": {
        "id": "0jUmsNaNoDdL",
        "colab_type": "code",
        "colab": {}
      },
      "source": [
        "##Adicionar de uma linha da matriz\n",
        "print(m[0,:].sum())"
      ],
      "execution_count": 0,
      "outputs": []
    },
    {
      "cell_type": "code",
      "metadata": {
        "id": "k6b0uyWvoGd3",
        "colab_type": "code",
        "colab": {}
      },
      "source": [
        "##Achatar uma matriz\n",
        "print( m.flatten() )"
      ],
      "execution_count": 0,
      "outputs": []
    },
    {
      "cell_type": "code",
      "metadata": {
        "id": "mdNrOu6aoJmz",
        "colab_type": "code",
        "colab": {}
      },
      "source": [
        "##Concatenação de matrizes\n",
        "print( np.concatenate((m,m), axis=0) )\n"
      ],
      "execution_count": 0,
      "outputs": []
    },
    {
      "cell_type": "code",
      "metadata": {
        "id": "fC635aV9oOCb",
        "colab_type": "code",
        "colab": {}
      },
      "source": [
        "##Operações aritméticas"
      ],
      "execution_count": 0,
      "outputs": []
    },
    {
      "cell_type": "code",
      "metadata": {
        "id": "me5VQ602oR8S",
        "colab_type": "code",
        "colab": {}
      },
      "source": [
        "m = np.array([[1,2,3],\n",
        "              [4,5,6]])\n",
        "\n",
        "v = np.array([[1,2,3]])\n",
        "print( m * v)"
      ],
      "execution_count": 0,
      "outputs": []
    },
    {
      "cell_type": "markdown",
      "metadata": {
        "id": "K2e_9r2fpOSX",
        "colab_type": "text"
      },
      "source": [
        "##Listas"
      ]
    },
    {
      "cell_type": "code",
      "metadata": {
        "id": "KiKj5qaZpTz2",
        "colab_type": "code",
        "colab": {}
      },
      "source": [
        "##Declaração de lista"
      ],
      "execution_count": 0,
      "outputs": []
    },
    {
      "cell_type": "code",
      "metadata": {
        "id": "hfN_bARYpazI",
        "colab_type": "code",
        "colab": {}
      },
      "source": [
        "list = list ()\n",
        "\n",
        "list = []\n",
        "\n",
        "lista = [1, 2, 3, 4]\n",
        "\n",
        "lista = [1, 2, 'Olá', [3, 4]]"
      ],
      "execution_count": 0,
      "outputs": []
    },
    {
      "cell_type": "code",
      "metadata": {
        "id": "ZVKahQ22pgCG",
        "colab_type": "code",
        "colab": {}
      },
      "source": [
        "print(list)"
      ],
      "execution_count": 0,
      "outputs": []
    },
    {
      "cell_type": "code",
      "metadata": {
        "id": "ou9FsL1BpjHk",
        "colab_type": "code",
        "colab": {}
      },
      "source": [
        "print(lista)"
      ],
      "execution_count": 0,
      "outputs": []
    },
    {
      "cell_type": "code",
      "metadata": {
        "id": "JUCm_wmLpmXx",
        "colab_type": "code",
        "colab": {}
      },
      "source": [
        "##Exibir os elementos de uma lista"
      ],
      "execution_count": 0,
      "outputs": []
    },
    {
      "cell_type": "code",
      "metadata": {
        "id": "PIj7hn96pwNC",
        "colab_type": "code",
        "colab": {}
      },
      "source": [
        "print(lista [2])"
      ],
      "execution_count": 0,
      "outputs": []
    },
    {
      "cell_type": "code",
      "metadata": {
        "id": "OuTE8E_np7P9",
        "colab_type": "code",
        "colab": {}
      },
      "source": [
        "##Adicionar itens a uma lista\n",
        "lista.append(5)\n",
        "print(lista)"
      ],
      "execution_count": 0,
      "outputs": []
    },
    {
      "cell_type": "code",
      "metadata": {
        "id": "QUyOaAScqD7E",
        "colab_type": "code",
        "colab": {}
      },
      "source": [
        "lista.append([6,7])\n",
        "print(lista)"
      ],
      "execution_count": 0,
      "outputs": []
    },
    {
      "cell_type": "code",
      "metadata": {
        "id": "mH_KCFI5qHC0",
        "colab_type": "code",
        "colab": {}
      },
      "source": [
        "lista.extend([8,8,8])\n",
        "print(lista)"
      ],
      "execution_count": 0,
      "outputs": []
    },
    {
      "cell_type": "code",
      "metadata": {
        "id": "oBFE16OYqVV4",
        "colab_type": "code",
        "colab": {}
      },
      "source": [
        "##Excluir itens de uma lista\n",
        "lista.remove(2)\n",
        "print(lista)"
      ],
      "execution_count": 0,
      "outputs": []
    },
    {
      "cell_type": "code",
      "metadata": {
        "id": "k7iKJurgqdkF",
        "colab_type": "code",
        "colab": {}
      },
      "source": [
        "##Contar o número de ocorrências de um item\n",
        "n = lista.count(8)\n",
        "print(n)"
      ],
      "execution_count": 0,
      "outputs": []
    },
    {
      "cell_type": "code",
      "metadata": {
        "id": "com4HVZ7HEQL",
        "colab_type": "code",
        "colab": {}
      },
      "source": [
        "##Determine a posição em que um item está na lista\n",
        "n = lista.index(1)\n",
        "print(n)"
      ],
      "execution_count": 0,
      "outputs": []
    },
    {
      "cell_type": "code",
      "metadata": {
        "id": "NbQA18k_IHWK",
        "colab_type": "code",
        "colab": {}
      },
      "source": [
        "n = lista.index('Olá')\n",
        "print(n)"
      ],
      "execution_count": 0,
      "outputs": []
    },
    {
      "cell_type": "code",
      "metadata": {
        "id": "aVVSa-tCHFig",
        "colab_type": "code",
        "colab": {}
      },
      "source": [
        "##Voltar a lista de cabeça para baixo\n",
        "lista.reverse()\n",
        "print(lista)"
      ],
      "execution_count": 0,
      "outputs": []
    },
    {
      "cell_type": "code",
      "metadata": {
        "id": "SmuWv6d0HKHj",
        "colab_type": "code",
        "colab": {}
      },
      "source": [
        "##Adicione valores nulos à lista\n",
        "lista.append(float('NaN'))\n",
        "print(lista)"
      ],
      "execution_count": 0,
      "outputs": []
    },
    {
      "cell_type": "code",
      "metadata": {
        "id": "Cyn0t1zkHONR",
        "colab_type": "code",
        "colab": {}
      },
      "source": [
        "##Remover valores nulos da lista simples\n",
        "lista = ['A', 'B', np.nan, 'D']\n",
        "lista = [x for x in lista if str(x) != 'nan']\n",
        "print(lista)\n"
      ],
      "execution_count": 0,
      "outputs": []
    },
    {
      "cell_type": "code",
      "metadata": {
        "id": "RdX-SuKMHRKc",
        "colab_type": "code",
        "colab": {}
      },
      "source": [
        "##Remover duplicatas\n",
        "lista = ['A','B','C','D','A','A']\n",
        "lista = set(lista)\n",
        "print(sorted(lista)) # É necessário ordenar"
      ],
      "execution_count": 0,
      "outputs": []
    },
    {
      "cell_type": "code",
      "metadata": {
        "id": "Hi_BVyckHUNk",
        "colab_type": "code",
        "colab": {}
      },
      "source": [
        "##Substituir partes da string em uma lista\n",
        "lista = ['pececin','pececillo','pececilla']\n",
        "lista = [words.replace('pece', 'salmon') for words in lista]\n",
        "print(lista)"
      ],
      "execution_count": 0,
      "outputs": []
    },
    {
      "cell_type": "code",
      "metadata": {
        "id": "VkX54v0DHXBG",
        "colab_type": "code",
        "colab": {}
      },
      "source": [
        "##Remova espaços na frente e atrás das palavras\n",
        "lista = ['pececin ',' pececillo ',' pececilla']\n",
        "lista = [words.split() for words in lista]\n",
        "print(lista)"
      ],
      "execution_count": 0,
      "outputs": []
    },
    {
      "cell_type": "code",
      "metadata": {
        "id": "kv88jvc0HZk3",
        "colab_type": "code",
        "colab": {}
      },
      "source": [
        "##Remova outros espaços entre as palavras\n",
        "lista = ['pececin  primero',' pececillo   segundo',' pececilla tercera']\n",
        "lista = [words.replace('   ', ' ') for words in lista]\n",
        "lista = [words.replace('  ', ' ') for words in lista]\n",
        "print(lista)"
      ],
      "execution_count": 0,
      "outputs": []
    },
    {
      "cell_type": "code",
      "metadata": {
        "id": "ALL4_YhGHdNh",
        "colab_type": "code",
        "colab": {}
      },
      "source": [
        "##Dividir duas listas item por item\n",
        "a = [10,20,30,40,50,60,70,80,90]\n",
        "b = [10,20,30,40,50,60,70,80,90]\n",
        "c = [x/y for x, y in zip(a, b)]\n",
        "print(c)"
      ],
      "execution_count": 0,
      "outputs": []
    },
    {
      "cell_type": "code",
      "metadata": {
        "id": "vTp8CIKWHgL9",
        "colab_type": "code",
        "colab": {}
      },
      "source": [
        "##Calcular metade de uma parte da matriz\n",
        "l = np.array([1, 2, 3, 4])\n",
        "\n",
        "print( l[l>2] )\n",
        "print( np.mean(l[l>2]) )"
      ],
      "execution_count": 0,
      "outputs": []
    },
    {
      "cell_type": "markdown",
      "metadata": {
        "id": "n_KOAgJlLpvb",
        "colab_type": "text"
      },
      "source": [
        "##RDD (Spark)\n",
        "##Criação de RDD"
      ]
    },
    {
      "cell_type": "code",
      "metadata": {
        "id": "Ss9NXqXnLoEe",
        "colab_type": "code",
        "colab": {}
      },
      "source": [
        "##Criação de coleções Python\n",
        "lista = ['um','dois','dois','tres','quatro']\n",
        "listardd = sc.parallelize(lista)\n",
        "listardd = sc.parallelize(lista,4) # Inclua o número do cluster no qual dividir o RDD\n",
        "print(listardd.collect()) # Visualizar as coleções RDD"
      ],
      "execution_count": 0,
      "outputs": []
    },
    {
      "cell_type": "code",
      "metadata": {
        "id": "CtV-g71uMEd0",
        "colab_type": "code",
        "colab": {}
      },
      "source": [
        "##Criação de dicionários\n",
        "dicRDD = sc.parallelize([(\"autor\",\"Franz Kafka\"), (\"titulo\",\"O Processo\"),(\"ano\",1499)]) # Importantes os corchetes []\n",
        "print(dicRDD.collect()) # Visualizar as coleções RDD"
      ],
      "execution_count": 0,
      "outputs": []
    },
    {
      "cell_type": "code",
      "metadata": {
        "id": "hfkY_MDPMFU_",
        "colab_type": "code",
        "colab": {}
      },
      "source": [
        "##Criação a partir de dicionários \n",
        "a = sc.parallelize(['a','b','c','a'])\n",
        "b = sc.parallelize([1,2,3,4])\n",
        "rdd_kv = a.zip(b)\n",
        "print(rdd_kv.collect())"
      ],
      "execution_count": 0,
      "outputs": []
    },
    {
      "cell_type": "markdown",
      "metadata": {
        "id": "tjK2-d1cOPJn",
        "colab_type": "text"
      },
      "source": [
        "##Lendo e gravando arquivos Apache Spark em Python\n"
      ]
    },
    {
      "cell_type": "code",
      "metadata": {
        "id": "XNVOORb5MIlA",
        "colab_type": "code",
        "colab": {}
      },
      "source": [
        "##Lendo arquivos externos no RDD\n",
        "rdd_file = sc.textFile (\"/home/file.txt\")"
      ],
      "execution_count": 0,
      "outputs": []
    },
    {
      "cell_type": "code",
      "metadata": {
        "id": "ylahclxQN38-",
        "colab_type": "code",
        "colab": {}
      },
      "source": [
        "##Gravar RDD em um diretório\n",
        "rdd_file.saveAsTextFile (\"/dbfs/RDD_dir\")"
      ],
      "execution_count": 0,
      "outputs": []
    },
    {
      "cell_type": "markdown",
      "metadata": {
        "id": "QN_BSQJxPCO2",
        "colab_type": "text"
      },
      "source": [
        "##Operações com uma lista do Apache Spark em Python"
      ]
    },
    {
      "cell_type": "code",
      "metadata": {
        "id": "f60q96MRN4-9",
        "colab_type": "code",
        "colab": {}
      },
      "source": [
        "##Exibir uma lista RDD\n",
        "rdd = sc.parallelize([1, 1, 1, 1, 2, 2, 2, 3, 3, 4])\n",
        "print (rdd.collect())"
      ],
      "execution_count": 0,
      "outputs": []
    },
    {
      "cell_type": "code",
      "metadata": {
        "id": "KgE_Hs4pML-u",
        "colab_type": "code",
        "colab": {}
      },
      "source": [
        "##Número de elementos RDD\n",
        "print (rdd.count())"
      ],
      "execution_count": 0,
      "outputs": []
    },
    {
      "cell_type": "code",
      "metadata": {
        "id": "j2TA3GN_Pzef",
        "colab_type": "code",
        "colab": {}
      },
      "source": [
        "##Primeiro item\n",
        "print (rdd.first())"
      ],
      "execution_count": 0,
      "outputs": []
    },
    {
      "cell_type": "code",
      "metadata": {
        "id": "n_NlpyuqP2G1",
        "colab_type": "code",
        "colab": {}
      },
      "source": [
        "##Dicionário com a frequência de cada item\n",
        "print (rdd.countByValue())"
      ],
      "execution_count": 0,
      "outputs": []
    },
    {
      "cell_type": "code",
      "metadata": {
        "id": "en0fU7rAP5aZ",
        "colab_type": "code",
        "colab": {}
      },
      "source": [
        "##Selecione os 4 primeiros itens\n",
        "print (rdd.take(4))"
      ],
      "execution_count": 0,
      "outputs": []
    },
    {
      "cell_type": "code",
      "metadata": {
        "id": "E5TC8H8RP8H-",
        "colab_type": "code",
        "colab": {}
      },
      "source": [
        "##Calcular a média\n",
        "print (rdd.mean())"
      ],
      "execution_count": 0,
      "outputs": []
    },
    {
      "cell_type": "code",
      "metadata": {
        "id": "Xr7yhayhP-Ve",
        "colab_type": "code",
        "colab": {}
      },
      "source": [
        "##Calcular a variação\n",
        "print (rdd.variance())"
      ],
      "execution_count": 0,
      "outputs": []
    },
    {
      "cell_type": "code",
      "metadata": {
        "id": "rNsE0Zy7QCNY",
        "colab_type": "code",
        "colab": {}
      },
      "source": [
        "##Calcular o desvio padrão\n",
        "print (rdd.stdev())"
      ],
      "execution_count": 0,
      "outputs": []
    },
    {
      "cell_type": "markdown",
      "metadata": {
        "id": "FzpgiyzwQ1e6",
        "colab_type": "text"
      },
      "source": [
        "##Operações com dicionários no Apache Spark em Python"
      ]
    },
    {
      "cell_type": "code",
      "metadata": {
        "id": "zAQgbsdxQEfA",
        "colab_type": "code",
        "colab": {}
      },
      "source": [
        "##Ver um dicionário\n",
        "a = sc.parallelize(['a','b','c','a'])\n",
        "b = sc.parallelize([1,2,3,4])\n",
        "rdd_kv = a.zip(b)\n",
        "print (rdd_kv.collect())"
      ],
      "execution_count": 0,
      "outputs": []
    },
    {
      "cell_type": "code",
      "metadata": {
        "id": "5jAGVKhNQ9WT",
        "colab_type": "code",
        "colab": {}
      },
      "source": [
        "##Acesse as chaves de um dicionário\n",
        "print (rdd_kv.keys().collect())"
      ],
      "execution_count": 0,
      "outputs": []
    },
    {
      "cell_type": "code",
      "metadata": {
        "id": "Ee1jreWWQ-g5",
        "colab_type": "code",
        "colab": {}
      },
      "source": [
        "##Acesse os valores de um dicionário\n",
        "print (rdd_kv.values().collect())"
      ],
      "execution_count": 0,
      "outputs": []
    },
    {
      "cell_type": "code",
      "metadata": {
        "id": "WxjIPnVgRBg7",
        "colab_type": "code",
        "colab": {}
      },
      "source": [
        "##Multiplique por dois os valores de um dicionário\n",
        "print (rdd_kv.mapValues(lambda x : x*2).collect())"
      ],
      "execution_count": 0,
      "outputs": []
    },
    {
      "cell_type": "code",
      "metadata": {
        "id": "wDkdkh6QREUG",
        "colab_type": "code",
        "colab": {}
      },
      "source": [
        "##Adicione os valores de um dicionário por chave\n",
        "print (rdd_kv.reduceByKey(lambda x,y: x + y).collect())"
      ],
      "execution_count": 0,
      "outputs": []
    },
    {
      "cell_type": "code",
      "metadata": {
        "id": "MPFs_QLLRHY_",
        "colab_type": "code",
        "colab": {}
      },
      "source": [
        "##Classificar os valores de um dicionário\n",
        "print (rdd_kv.sortByKey(False).collect())\n",
        "print (rdd_kv.sortByKey(True).collect())"
      ],
      "execution_count": 0,
      "outputs": []
    },
    {
      "cell_type": "code",
      "metadata": {
        "id": "l0qEOtpzSHBD",
        "colab_type": "code",
        "colab": {}
      },
      "source": [
        "##Classifique os 5 primeiros elementos do RDD\n",
        "print (rdd.takeOrdered(5))"
      ],
      "execution_count": 0,
      "outputs": []
    },
    {
      "cell_type": "code",
      "metadata": {
        "id": "Mv6cewGnSJHZ",
        "colab_type": "code",
        "colab": {}
      },
      "source": [
        "##Ordem inversa dos 5 primeiros elementos do RDD\n",
        "print(rdd.takeOrdered(5, lambda x: -x))"
      ],
      "execution_count": 0,
      "outputs": []
    },
    {
      "cell_type": "code",
      "metadata": {
        "id": "3gRXccaZSQYj",
        "colab_type": "code",
        "colab": {}
      },
      "source": [
        "##Ordenar o RDD inteiro e devolva outro RDD\n",
        "rdd_aux = rdd.sortBy(lambda x: x)\n",
        "print(rdd_aux.collect())"
      ],
      "execution_count": 0,
      "outputs": []
    },
    {
      "cell_type": "code",
      "metadata": {
        "id": "_L8mUYTWSUxJ",
        "colab_type": "code",
        "colab": {}
      },
      "source": [
        "##Faça a ordem inversa de todo o RDD e retorne outro RDD\n",
        "rdd_aux = rdd.sortBy(lambda x:-x)\n",
        "print(rdd_aux.collect())"
      ],
      "execution_count": 0,
      "outputs": []
    },
    {
      "cell_type": "code",
      "metadata": {
        "id": "Y4qgswrUTVr7",
        "colab_type": "code",
        "colab": {}
      },
      "source": [
        "##Filtragem de Dados Numéricos\n",
        "rdd_num = sc.parallelize ([1, 1, 1, 1, 2, 2, 2, 3, 3, 4])\n",
        "rdd_num = rdd.filter(lambda x: x <3)\n",
        "print (rdd_num.collect())"
      ],
      "execution_count": 0,
      "outputs": []
    },
    {
      "cell_type": "code",
      "metadata": {
        "id": "GZpB-8kYTbqM",
        "colab_type": "code",
        "colab": {}
      },
      "source": [
        "##Filtragem de dados em textos\n",
        "rdd_text = sc.parallelize(['LULA LADRAO','VIADAO','CUZAO'])\n",
        "rdd_aux = rdd_text.filter(lambda x : x != 'VIADAO')\n",
        "print (rdd_aux.collect())"
      ],
      "execution_count": 0,
      "outputs": []
    },
    {
      "cell_type": "code",
      "metadata": {
        "id": "ohvi5jIHUCgB",
        "colab_type": "code",
        "colab": {}
      },
      "source": [
        "##Selecione uma amostra de 5 elementos com repetição \"True\"\n",
        "print (rdd.takeSample(True, 5))"
      ],
      "execution_count": 0,
      "outputs": []
    },
    {
      "cell_type": "code",
      "metadata": {
        "id": "lYbs1-VNUNE9",
        "colab_type": "code",
        "colab": {}
      },
      "source": [
        "##Selecione os dados com repetição com um tamanho de amostra duplo\n",
        "print (rdd.sample(True, 2).collect())"
      ],
      "execution_count": 0,
      "outputs": []
    },
    {
      "cell_type": "code",
      "metadata": {
        "id": "1JhB_y5lVccy",
        "colab_type": "code",
        "colab": {}
      },
      "source": [
        "##União de conjuntos\n",
        "group1 = sc.parallelize(['A','B','C','D']) \n",
        "group2 = sc.parallelize(['C','D','E','F']) \n",
        "rdd_aux = group1.union(group2) \n",
        "print (rdd_aux.collect())"
      ],
      "execution_count": 0,
      "outputs": []
    },
    {
      "cell_type": "code",
      "metadata": {
        "id": "uiY3vgirVdpl",
        "colab_type": "code",
        "colab": {}
      },
      "source": [
        "##Interseção de conjuntos (AS LETRAS IGUAIS)\n",
        "rdd_aux = group1.intersection(group2)\n",
        "rdd_aux.collect()"
      ],
      "execution_count": 0,
      "outputs": []
    },
    {
      "cell_type": "code",
      "metadata": {
        "id": "wtI1OmLlXRxY",
        "colab_type": "code",
        "colab": {}
      },
      "source": [
        "##Crie um RDD que multiplique seus valores por 2 e adicione os resultados\n",
        "rdd = sc.parallelize([1,1,1,1,1,1,1,1,1,1,1,2,2,2,2,2,2,2,2,2,2,2,2,2,2])\n",
        "rdd2 = rdd.map(lambda x: x*2)\n",
        "tSum = rdd2.reduce(lambda x,y: x+y)\n",
        "print(tSum)"
      ],
      "execution_count": 0,
      "outputs": []
    },
    {
      "cell_type": "code",
      "metadata": {
        "id": "A6HwRc_USS53",
        "colab_type": "code",
        "colab": {}
      },
      "source": [
        "##Crie um dicionário com elementos (x, 1) e adicione ocorrências por elemento\n",
        "rdd_text = sc.parallelize(['red', 'red', 'blue', 'green', 'green','yellow'])\n",
        "print(rdd_text.collect())\n",
        "\n",
        "rdd_aux = rdd_text.map(lambda x: (x,1))\n",
        "print(rdd_aux.collect())\n",
        "\n",
        "rdd_result = rdd_aux.reduceByKey(lambda x,y: x+y)\n",
        "print(rdd_result.collect())"
      ],
      "execution_count": 0,
      "outputs": []
    },
    {
      "cell_type": "code",
      "metadata": {
        "id": "E12mnEx_bjTs",
        "colab_type": "code",
        "colab": {}
      },
      "source": [
        "##PySpark reduceByKey\n",
        "x = sc.parallelize([(\"a\", 1), (\"b\", 1), (\"a\", 1), (\"a\", 1),\n",
        "                    (\"b\", 1), (\"b\", 1), (\"b\", 1), (\"b\", 1)], 3)\n",
        " \n",
        "# Aplicando a operação reduzirByKey em x\n",
        "y = x.reduceByKey(lambda accum, n: accum + n)\n",
        "print(y.collect())\n",
        "# [('b', 5), ('a', 3)]\n",
        " \n",
        "# Definir função associativa separadamente\n",
        "def sumFunc(accum, n):\n",
        "    return accum + n\n",
        " \n",
        "y = x.reduceByKey(sumFunc)\n",
        "print(y.collect())\n",
        "# [('b', 5), ('a', 3)]"
      ],
      "execution_count": 0,
      "outputs": []
    },
    {
      "cell_type": "markdown",
      "metadata": {
        "id": "wuYgVmPfePWL",
        "colab_type": "text"
      },
      "source": [
        "##Processamento em lote do Apache Spark em Python"
      ]
    },
    {
      "cell_type": "code",
      "metadata": {
        "id": "R_FVgR9aZfI-",
        "colab_type": "code",
        "colab": {}
      },
      "source": [
        "##Dados Json usados ​​para análise\n",
        "%fs head /databricks-datasets/structured-streaming/events/file-0.json"
      ],
      "execution_count": 0,
      "outputs": []
    },
    {
      "cell_type": "code",
      "metadata": {
        "id": "SzepgH6leljT",
        "colab_type": "code",
        "colab": {}
      },
      "source": [
        "##Definir DataFrame específico do Spark\n",
        "##O próprio \"pyspark\" do DataFrame do Spark acelera o processamento de dados\n",
        "from pyspark.sql.types import *\n",
        "\n",
        "pathText = \"/databricks-datasets/structured-streaming/events/\"\n",
        "jsonSchema = StructType([ \n",
        "                 StructField(\"time\", TimestampType(), True), \n",
        "                 StructField(\"action\", StringType(), True) \n",
        "             ])\n",
        "\n",
        "# DataFrame que representa dados do arquivo JSON\n",
        "df = (\n",
        "  spark\n",
        "    .read\n",
        "    .schema(jsonSchema)\n",
        "    .json(pathText)\n",
        ")\n",
        "\n",
        "# Visualizar el DataFrame\n",
        "display(df)"
      ],
      "execution_count": 0,
      "outputs": []
    },
    {
      "cell_type": "code",
      "metadata": {
        "id": "ghrgdoe3eoxp",
        "colab_type": "code",
        "colab": {}
      },
      "source": [
        "##Agrupe um DataFrame por minuto e digite\n",
        "from pyspark.sql.functions import *\n",
        "\n",
        "# Defina o DataFrame agrupado por minuto do original\n",
        "df_by_min2 = (\n",
        "  df\n",
        "    .groupBy(\n",
        "       df.action, \n",
        "       window(df.time, \"1 minute\"))   # 1 hour ...   \n",
        "    .count()\n",
        ")\n",
        "# Visualizar o DataFrame\n",
        "display(df_by_min2)"
      ],
      "execution_count": 0,
      "outputs": []
    },
    {
      "cell_type": "code",
      "metadata": {
        "id": "IVgviJeReqMA",
        "colab_type": "code",
        "colab": {}
      },
      "source": [
        "##Executar consultas SQL\n",
        "# Armazene o DataFrame como uma tabela \n",
        "SparkQL df.createOrReplaceTempView (\"view_df\") \n",
        "\n",
        "# Execute o \n",
        "result = spark.sql(\"SELECT action, COUNT(time) as total FROM view_df GRUP BY action\")\n",
        "\n",
        "# Exiba o resultado do Consulta SQL \n",
        "result.show () "
      ],
      "execution_count": 0,
      "outputs": []
    },
    {
      "cell_type": "markdown",
      "metadata": {
        "id": "FM3K-ki6f4Nd",
        "colab_type": "text"
      },
      "source": [
        "##Uso de Pipes (Pipelines) no Apache Spark em Python\n",
        "Exemplo de concatenação de tubos (tubulações)\n",
        "Ele mostra um exemplo de como os elementos são incluídos em um pipe de forma que finalmente todos se reúnem no mesmo ponto, que chamamos de \"recursos\""
      ]
    },
    {
      "cell_type": "code",
      "metadata": {
        "id": "P1TIlOjMf6S6",
        "colab_type": "code",
        "colab": {}
      },
      "source": [
        "from pyspark.ml import Pipeline\n",
        "from pyspark.ml.feature import VectorAssembler\n",
        "\n",
        "# Definir o df Spark a utilizar, estouusando SS nao o SC\n",
        "df = ss.createDataFrame([\n",
        "    ('line_1', 1, 2, 3, 4),\n",
        "    ('line_2', 5, 6, 7, 8),\n",
        "    ('line_3', 9, 9, 9, 9)\n",
        "], (\"label\", \"x1\", \"x2\", \"x3\", \"x4\"))\n",
        "\n",
        "print(df)\n",
        "\n",
        "# Defina um assembler das colunas 'x1' e 'x2' e use 'features1' como saída\n",
        "assembler12 = VectorAssembler(inputCols=[\"x1\", \"x2\"], outputCol=\"features1\")\n",
        "# Crie o pipeline\n",
        "pipeline12 = Pipeline()\n",
        "# Definir os estágios dos quais o pipeline é composto\n",
        "pipeline12.setStages([assembler12])\n",
        "\n",
        "# Defina um montador das colunas 'x3' e 'x4' e use 'features2' como saída\n",
        "assembler34 = VectorAssembler(inputCols=[\"x3\", \"x4\"], outputCol=\"features2\")\n",
        "# \n",
        "pipeline34 = Pipeline()\n",
        "# Definir os estágios dos quais o pipeline é composto\n",
        "pipeline34.setStages([assembler34])\n",
        "\n",
        "# Defina um assembler das colunas 'features 1 e' features 2 'e tome' features 'como saída\n",
        "assemblerResult = VectorAssembler(inputCols=[\"features1\", \"features2\"], outputCol=\"features\")\n",
        "# Crie o pipeline\n",
        "pipelineResult = Pipeline()\n",
        "# Definir os estágios dos quais o pipeline é composto\n",
        "pipelineResult.setStages([pipeline12, pipeline34, assemblerResult])\n",
        "\n",
        "# Modelo de conexão do pypeline com dados de entrada 'df'\n",
        "modelResult = pipelineResult.fit(df)\n",
        "# Execute a transformação de dados usando o modelo\n",
        "result_df = modelResult.transform(df)\n",
        "# Mostrar os resultados\n",
        "display(result_df)\n",
        "print(result_df)"
      ],
      "execution_count": 0,
      "outputs": []
    },
    {
      "cell_type": "code",
      "metadata": {
        "id": "IibDa0FAnoBI",
        "colab_type": "code",
        "colab": {}
      },
      "source": [
        "## Exemplo de concatenação dos pipelines 2 (otimizando frases)\n",
        "from pyspark.ml import Pipeline\n",
        "from pyspark.ml.feature import VectorAssembler\n",
        "\n",
        "df = ss.createDataFrame([\n",
        "    ('line_1', 1, 2, 3, 4),\n",
        "    ('line_2', 5, 6, 7, 8),\n",
        "    ('line_3', 9, 9, 9, 9)\n",
        "], (\"label\", \"x1\", \"x2\", \"x3\", \"x4\"))\n",
        "\n",
        "pipeline1 = Pipeline(stages=[\n",
        "    VectorAssembler(inputCols=[\"x1\", \"x2\"], outputCol=\"features1\")\n",
        "])\n",
        "\n",
        "pipeline2 = Pipeline(stages=[\n",
        "    VectorAssembler(inputCols=[\"x3\", \"x4\"], outputCol=\"features2\")\n",
        "])\n",
        "\n",
        "result = Pipeline(stages=[\n",
        "    pipeline1, pipeline2, \n",
        "    VectorAssembler(inputCols=[\"features1\", \"features2\"], outputCol=\"features\")\n",
        "]).fit(df).transform(df)\n",
        "\n",
        "display(result)\n"
      ],
      "execution_count": 0,
      "outputs": []
    },
    {
      "cell_type": "code",
      "metadata": {
        "id": "PbQmxOUpmW_m",
        "colab_type": "code",
        "colab": {}
      },
      "source": [
        "#Exemplo de pipeline\n",
        "# Cria o pipeline\n",
        "pipelineResult = Pipeline()\n",
        "display(pipelineResult)\n",
        "\n",
        "# Definir os estágios dos quais o tubo é composto\n",
        "pipelineResult.setStages([assembler12, assembler34, assemblerResult])\n",
        "display(pipelineResult)\n",
        "\n",
        "# Modelo de conexão de pipeline com dados de entrada 'df'\n",
        "modelResult = pipelineResult.fit(df)\n",
        "display(modelResult)\n",
        "\n",
        "# Execute a transformação de dados usando o modelo\n",
        "result_df2 = modelResult.transform(df)\n",
        "\n",
        "# Mostrar os resultados\n",
        "display(result_df2)"
      ],
      "execution_count": 0,
      "outputs": []
    },
    {
      "cell_type": "markdown",
      "metadata": {
        "id": "hNyFTQfYqxNk",
        "colab_type": "text"
      },
      "source": [
        "##Função Apache Spark em Python"
      ]
    },
    {
      "cell_type": "code",
      "metadata": {
        "id": "qVA-eMDEque6",
        "colab_type": "code",
        "colab": {}
      },
      "source": [
        "## Exemplo de função no Spark Python\n",
        "## Mostre um exemplo de função de mapa com spark.\n",
        "def funcao_mapa(iterator): yield sum(iterator)\n",
        "  \n",
        "list = range(1,10)\n",
        "parallel = sc.parallelize(list, 5)\n",
        "parallel.mapPartitions(funcao_mapa).collect()"
      ],
      "execution_count": 0,
      "outputs": []
    },
    {
      "cell_type": "code",
      "metadata": {
        "id": "YdSFMcI2so5N",
        "colab_type": "code",
        "colab": {}
      },
      "source": [
        "## Exemplo de Função 1\n",
        "## Função que adiciona dois números inseridos por parâmetro\n",
        "def soma(n1, n2): \n",
        "    total = n1 + n2 \n",
        "    print (total)\n",
        "\n",
        "soma(1,2)"
      ],
      "execution_count": 0,
      "outputs": []
    },
    {
      "cell_type": "code",
      "metadata": {
        "id": "HxSrHeUEs6iV",
        "colab_type": "code",
        "colab": {}
      },
      "source": [
        "## Exemplo de Função 2\n",
        "## Função que retorna dois números passados ​​como uma lista\n",
        "def soma(n1, n2):\n",
        "    return n1 + n2\n",
        "\n",
        "dados = [1, 2]\n",
        "print (soma(*dados))"
      ],
      "execution_count": 0,
      "outputs": []
    },
    {
      "cell_type": "code",
      "metadata": {
        "id": "XlVyFP2Js-yG",
        "colab_type": "code",
        "colab": {}
      },
      "source": [
        "## Exemplo de Função 3\n",
        "## Função que retorna dois números passados ​​como um dicionário\n",
        "def soma(n1, n2): \n",
        "    return n1 + n2\n",
        " \n",
        "dicionario = {\"n1\": 1, \"n2\": 2} \n",
        "print (soma(**dicionario))"
      ],
      "execution_count": 0,
      "outputs": []
    },
    {
      "cell_type": "markdown",
      "metadata": {
        "id": "sNFxP5t4u9Oy",
        "colab_type": "text"
      },
      "source": [
        "## Análise de regressão linear em Python"
      ]
    },
    {
      "cell_type": "code",
      "metadata": {
        "id": "qXlwnSImu2O0",
        "colab_type": "code",
        "colab": {}
      },
      "source": [
        "## Exemplo de regressão linear simples em Python\n",
        "## Um exemplo de regressão linear simples é mostrado em um conjunto de dados que são gerados aleatoriamente.\n",
        "\n",
        "from sklearn.datasets.samples_generator import make_blobs\n",
        "from sklearn.linear_model import LinearRegression\n",
        "from time import time\n",
        "\n",
        "# Geração de um conjunto de dados bidimensional X e Y\n",
        "X, Y = make_blobs(n_samples=1000, centers=2, n_features=2, random_state=1)\n",
        "\n",
        "start_time = time()\n",
        "\n",
        "# Definir o modelo de regressão\n",
        "model = LinearRegression()\n",
        "\n",
        "# Calcular regressão\n",
        "model.fit(X, Y)\n",
        "\n",
        "# Calcular o tempo necessário para executar a regressão\n",
        "elapsed_time = time() - start_time\n",
        "print(\"Tempo decorrido: %.10f segundos.\" % elapsed_time)\n",
        "\n",
        "# Mostrar resultados da regressão\n",
        "m = model.coef_[0]\n",
        "b = model.intercept_\n",
        "print(\"declive=\", m, \"interceptar=\", b)\n"
      ],
      "execution_count": 0,
      "outputs": []
    },
    {
      "cell_type": "code",
      "metadata": {
        "id": "L-Njzp3HyGSl",
        "colab_type": "code",
        "colab": {}
      },
      "source": [
        "## Exemplo de regressão linear simples no Python Spark\n",
        "# -*- coding: utf-8 -*-\n",
        "\"\"\"\n",
        "Spark Regression\n",
        "\"\"\"\n",
        "\n",
        "from pyspark.sql import SparkSession\n",
        "from pyspark.ml import Pipeline\n",
        "from pyspark.ml.feature import VectorAssembler\n",
        "from pyspark.ml.regression import LinearRegression\n",
        "from time import time\n",
        "import random\n",
        "\n",
        "# Geração de um conjunto de dados bidimensional\n",
        "data = []\n",
        "for x in range(10000):\n",
        "    data.append( (random.randint(0,9), random.randint(0,9)) )\n",
        "df = ss.createDataFrame(data, (\"label\", \"data\"))\n",
        "\n",
        "df.show()\n",
        "\n",
        "# Defina o canal que transforma os dados na entrada que a regressão usa\n",
        "result = Pipeline(stages=[\n",
        "    VectorAssembler(inputCols=[\"data\"], outputCol=\"features\")\n",
        "]).fit(df).transform(df)\n",
        "\n",
        "start_time = time()\n",
        "\n",
        "# Definir o modelo de regressão\n",
        "lr = LinearRegression(maxIter=50, regParam=1.12)\n",
        "\n",
        "# Calcula a regressão\n",
        "model = lr.fit(result)\n",
        "\n",
        "# Calcula tiempo empregado para realizar a regressão\n",
        "elapsed_time = time() - start_time\n",
        "print(\"Tempo decorrido: %.10f segundos.\" % elapsed_time)\n",
        "\n",
        "# Mostrar resultados da regressão\n",
        "print(model.coefficients)\n",
        "print(model.intercept)\n",
        "\n",
        "# Sair do Spark\n",
        "#sc.stop()"
      ],
      "execution_count": 0,
      "outputs": []
    },
    {
      "cell_type": "code",
      "metadata": {
        "id": "R63CVFuK0aeU",
        "colab_type": "code",
        "colab": {}
      },
      "source": [
        "## Exemplo de regressão logística em Python\n",
        "# Defina as bibliotecas a serem importadas\n",
        "from sklearn.datasets.samples_generator import make_blobs\n",
        "from sklearn.linear_model import LogisticRegression\n",
        "from time import time\n",
        "\n",
        "# Geração de um conjunto de dados bidimensional X e Y\n",
        "X, Y = make_blobs(n_samples=1000, centers=2, n_features=2, random_state=1)\n",
        "\n",
        "start_time = time()\n",
        "\n",
        "# Definir o modelo de regressão\n",
        "model = LogisticRegression()\n",
        "\n",
        "# Calcular regressão\n",
        "model.fit(X, Y)\n",
        "\n",
        "# Calcular o tempo necessário para executar a regressão\n",
        "elapsed_time = time() - start_time\n",
        "print(\"Tempo decorrido: %.10f segundos.\" % elapsed_time)\n",
        "\n",
        "# Mostrar resultados da regressão\n",
        "m = model.coef_[0]\n",
        "b = model.intercept_\n",
        "print(\"declive=\", m, \"interceptar=\", b)"
      ],
      "execution_count": 0,
      "outputs": []
    },
    {
      "cell_type": "code",
      "metadata": {
        "id": "PxoVdVvKz9TF",
        "colab_type": "code",
        "colab": {}
      },
      "source": [
        "##Análise de cluster não hierárquica K-significa no Spark Python\n",
        "from pyspark.ml import Pipeline\n",
        "from pyspark.ml.feature import VectorAssembler\n",
        "from sklearn.cluster import KMeans\n",
        "import sklearn.cluster.k_means_\n",
        "\n",
        "# Defini o 'df' Spark a utilizar\n",
        "df = ss.createDataFrame([\n",
        "    ('line_1', 100, 10, 1),\n",
        "    ('line_2', 200, 20, 2),\n",
        "    ('line_3', 300, 30, 2),\n",
        "    ('line_4', 300, 30, 3),\n",
        "    ('line_5', 200, 20, 1),\n",
        "    ('line_6', 100, 10, 1)\n",
        "],  (\"label\", \"x1\", \"x2\", \"x3\"))\n",
        "\n",
        "# Definir um assemblador das columnas 'x1', 'x2' y 'x3' que toma como saida 'aux_features'\n",
        "assembler = VectorAssembler(inputCols=[\"x1\", \"x2\",\"x3\"], outputCol=\"features\")\n",
        "\n",
        "# Cria o pipeine\n",
        "pipelineResult = Pipeline()\n",
        "# Definir os estágios dos quais o tubo é composto\n",
        "pipelineResult.setStages([assembler])\n",
        "\n",
        "# Modelo de conexão de tubo com dados de entrada 'df'\n",
        "modelResult = pipelineResult.fit(df)\n",
        "\n",
        "# Execute a transformação de dados usando o modelo\n",
        "result_df = modelResult.transform(df)\n",
        "\n",
        "\n",
        "# Defini o modelo de k-means.\n",
        "#kmeans = KMeans().setK(3).setSeed(1)\n",
        "kmeans = KMeans()\n",
        "model = kmeans.fit(result_df)\n",
        "\n",
        "# Obter a soma quadrada de erros 'SSE'\n",
        "SSE = model.computeCost(result_df)\n",
        "print (\"Soma quadrada de erros 'SSE' \" + str(SSE))\n",
        "\n",
        "# Obter o número de itens\n",
        "n = result_df.count()\n",
        "\n",
        "# Calcular o erro quadrático médio 'RMSE'\n",
        "RMSE = math.sqrt(SSE/n)\n",
        "print (\"Error cuadratico medio: \" + str(RMSE))\n",
        "\n",
        "# Mostre os centróides.\n",
        "centers = model.clusterCenters()\n",
        "print(\"Cluster Centers: \")\n",
        "for center in centers:\n",
        "    print(center)"
      ],
      "execution_count": 0,
      "outputs": []
    }
  ]
}